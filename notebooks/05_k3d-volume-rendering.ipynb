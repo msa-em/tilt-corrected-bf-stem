{
 "cells": [
  {
   "cell_type": "code",
   "execution_count": 1,
   "id": "5c2ad77b-e5f4-42d8-b57f-09c92722e7c9",
   "metadata": {},
   "outputs": [],
   "source": [
    "import k3d\n",
    "import h5py\n",
    "import numpy as np"
   ]
  },
  {
   "cell_type": "code",
   "execution_count": 2,
   "id": "9f6f7ffd-8c50-4c2a-bbf2-18468d7c490f",
   "metadata": {},
   "outputs": [
    {
     "data": {
      "application/vnd.jupyter.widget-view+json": {
       "model_id": "6057acdf3c54442c96b619d9ee71f710",
       "version_major": 2,
       "version_minor": 0
      },
      "text/plain": [
       "Output()"
      ]
     },
     "metadata": {},
     "output_type": "display_data"
    }
   ],
   "source": [
    "#| label: app:volume_test\n",
    "\n",
    "with h5py.File(\"data/CNT_overlap_tomo_missing.h5\",\"r\") as f:\n",
    "    volume_data = f['reconstruction'][:]\n",
    "\n",
    "cnt = k3d.volume(\n",
    "    volume_data, \n",
    "    color_map=np.array(k3d.basic_color_maps.BlackBodyRadiation, dtype=np.float32), \n",
    ")\n",
    "\n",
    "plot = k3d.plot(\n",
    "    grid_visible=False,\n",
    "    menu_visibility=False,\n",
    "    camera_mode='orbit',\n",
    "    colorbar_object_id=0,\n",
    ")\n",
    "plot += cnt\n",
    "plot.display()"
   ]
  },
  {
   "cell_type": "code",
   "execution_count": null,
   "id": "9e4b0c20-ac68-4d6b-8cfd-2ee189e2cf73",
   "metadata": {},
   "outputs": [],
   "source": []
  }
 ],
 "metadata": {
  "kernelspec": {
   "display_name": "Python 3 (ipykernel)",
   "language": "python",
   "name": "python3"
  },
  "language_info": {
   "codemirror_mode": {
    "name": "ipython",
    "version": 3
   },
   "file_extension": ".py",
   "mimetype": "text/x-python",
   "name": "python",
   "nbconvert_exporter": "python",
   "pygments_lexer": "ipython3",
   "version": "3.12.4"
  }
 },
 "nbformat": 4,
 "nbformat_minor": 5
}
